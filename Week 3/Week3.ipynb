{
 "cells": [
  {
   "cell_type": "code",
   "execution_count": 3,
   "metadata": {
    "collapsed": true,
    "pycharm": {
     "is_executing": false
    }
   },
   "outputs": [
    {
     "name": "stdout",
     "text": [
      "24\n",
      "120\n"
     ],
     "output_type": "stream"
    }
   ],
   "source": [
    "#For/While\n",
    "#Fatorial\n",
    "def factorial(n):\n",
    "    result = 1\n",
    "    for i in range(1,n+1):\n",
    "        result *= i\n",
    "    return result\n",
    "\n",
    "print(factorial(4)) # should return 24\n",
    "print(factorial(5)) # should return 120"
   ]
  },
  {
   "cell_type": "code",
   "execution_count": 5,
   "outputs": [
    {
     "name": "stdout",
     "text": [
      "[0 | 0 ] [0 | 1 ] [0 | 2 ] [0 | 3 ] [0 | 4 ] [0 | 5 ] [0 | 6 ] [1 | 1 ] [1 | 2 ] [1 | 3 ] [1 | 4 ] [1 | 5 ] [1 | 6 ] [2 | 2 ] [2 | 3 ] [2 | 4 ] [2 | 5 ] [2 | 6 ] [3 | 3 ] [3 | 4 ] [3 | 5 ] [3 | 6 ] [4 | 4 ] [4 | 5 ] [4 | 6 ] [5 | 5 ] [5 | 6 ] [6 | 6 ] "
     ],
     "output_type": "stream"
    }
   ],
   "source": [
    "#Dominos\n",
    "\n",
    "for esquerda in range(7):\n",
    "    for direita in range(esquerda, 7):\n",
    "        print(\"[\"+str(esquerda)+\" | \"+ str(direita)+ \" ]\", end=\" \")"
   ],
   "metadata": {
    "collapsed": false,
    "pycharm": {
     "name": "#%%\n",
     "is_executing": false
    }
   }
  },
  {
   "cell_type": "code",
   "execution_count": 7,
   "outputs": [
    {
     "name": "stdout",
     "text": [
      "|internacional X flamengo|\n",
      "|internacional X gremio|\n",
      "|internacional X sao paulo|\n",
      "|flamengo X internacional|\n",
      "|flamengo X gremio|\n",
      "|flamengo X sao paulo|\n",
      "|gremio X internacional|\n",
      "|gremio X flamengo|\n",
      "|gremio X sao paulo|\n",
      "|sao paulo X internacional|\n",
      "|sao paulo X flamengo|\n",
      "|sao paulo X gremio|\n"
     ],
     "output_type": "stream"
    }
   ],
   "source": [
    "#Times\n",
    "\n",
    "teams = [\"internacional\", \"flamengo\", \"gremio\", \"sao paulo\" ]\n",
    "\n",
    "for mandante in teams:\n",
    "    for visitante in teams:\n",
    "        if mandante != visitante:\n",
    "            print(\"|\" + mandante + \" X \" + visitante + \"|\")\n",
    "\n"
   ],
   "metadata": {
    "collapsed": false,
    "pycharm": {
     "name": "#%%\n",
     "is_executing": false
    }
   }
  },
  {
   "cell_type": "markdown",
   "source": [
    "while condition:\n",
    "    body\n",
    "    \n",
    "for variable in sequence\n",
    "    body\n",
    "    \n",
    "\n",
    "\n"
   ],
   "metadata": {
    "collapsed": false
   }
  },
  {
   "cell_type": "code",
   "execution_count": 8,
   "outputs": [
    {
     "name": "stdout",
     "text": [
      "0 1\n",
      "1 1\n",
      "2 2\n",
      "3 6\n",
      "4 24\n",
      "5 120\n",
      "6 720\n",
      "7 5040\n",
      "8 40320\n",
      "9 362880\n"
     ],
     "output_type": "stream"
    }
   ],
   "source": [
    "#Outra forma de fatorial\n",
    "def factorial(n):\n",
    "    result = 1\n",
    "    for x in range(1,n+1):\n",
    "        result *= x\n",
    "    return result\n",
    "\n",
    "for n in range(0,10):\n",
    "    print(n, factorial(n))\n",
    "    "
   ],
   "metadata": {
    "collapsed": false,
    "pycharm": {
     "name": "#%%\n",
     "is_executing": false
    }
   }
  },
  {
   "cell_type": "code",
   "execution_count": null,
   "outputs": [],
   "source": [
    "#primeiros dez numeros ao cubo.\n",
    "for x in range(1,11):\n",
    "  print(x*x*x)\n",
    "\n"
   ],
   "metadata": {
    "collapsed": false,
    "pycharm": {
     "name": "#%%\n"
    }
   }
  },
  {
   "cell_type": "code",
   "execution_count": null,
   "outputs": [],
   "source": [
    "#multiplos de 7 \n",
    "for multiplos in range(101):\n",
    "  if multiplos%7 == 0:\n",
    "    print(multiplos)\n"
   ],
   "metadata": {
    "collapsed": false,
    "pycharm": {
     "name": "#%%\n"
    }
   }
  },
  {
   "cell_type": "code",
   "execution_count": 4,
   "outputs": [
    {
     "data": {
      "text/plain": "15"
     },
     "metadata": {},
     "output_type": "execute_result",
     "execution_count": 4
    }
   ],
   "source": [
    "#Recursividade\n",
    "def factorial(n):\n",
    "    if n < 2:\n",
    "        return 1\n",
    "    return n*factorial(n-1)\n",
    "\n",
    "factorial(5)"
   ],
   "metadata": {
    "collapsed": false,
    "pycharm": {
     "name": "#%%\n",
     "is_executing": false
    }
   }
  },
  {
   "cell_type": "code",
   "execution_count": 8,
   "outputs": [
    {
     "data": {
      "text/plain": "10"
     },
     "metadata": {},
     "output_type": "execute_result",
     "execution_count": 8
    }
   ],
   "source": [
    "#soma_recursividade\n",
    "def sum_positive_numbers(n):\n",
    "    if n < 2:\n",
    "        return 1\n",
    "    return n+sum_positive_numbers(n-1)\n",
    "\n",
    "print(sum_positive_numbers(3)) # Should be 6\n",
    "print(sum_positive_numbers(5)) # Should be 15\n"
   ],
   "metadata": {
    "collapsed": false,
    "pycharm": {
     "name": "#%%\n",
     "is_executing": false
    }
   }
  },
  {
   "cell_type": "code",
   "execution_count": 9,
   "outputs": [
    {
     "name": "stdout",
     "text": [
      "0\n",
      "0\n",
      "1\n",
      "0\n",
      "1\n",
      "2\n",
      "0\n",
      "1\n",
      "2\n",
      "3\n",
      "0\n",
      "1\n",
      "2\n",
      "3\n",
      "4\n",
      "0\n",
      "1\n",
      "2\n",
      "3\n",
      "4\n",
      "5\n",
      "0\n",
      "1\n",
      "2\n",
      "3\n",
      "4\n",
      "5\n",
      "6\n",
      "0\n",
      "1\n",
      "2\n",
      "3\n",
      "4\n",
      "5\n",
      "6\n",
      "7\n",
      "0\n",
      "1\n",
      "2\n",
      "3\n",
      "4\n",
      "5\n",
      "6\n",
      "7\n",
      "8\n"
     ],
     "output_type": "stream"
    }
   ],
   "source": [
    "for x in range(10):\n",
    "    for y in range(x):\n",
    "        print(y)\n",
    "\n"
   ],
   "metadata": {
    "collapsed": false,
    "pycharm": {
     "name": "#%%\n",
     "is_executing": false
    }
   }
  },
  {
   "cell_type": "code",
   "execution_count": 10,
   "outputs": [
    {
     "name": "stdout",
     "text": [
      "1\n",
      "4\n",
      "7\n"
     ],
     "output_type": "stream"
    }
   ],
   "source": [
    "for x in range(1, 10, 3):\n",
    "    print(x)"
   ],
   "metadata": {
    "collapsed": false,
    "pycharm": {
     "name": "#%%\n",
     "is_executing": false
    }
   }
  },
  {
   "cell_type": "code",
   "execution_count": null,
   "outputs": [],
   "source": [
    "def even_numbers(maximum):\n",
    "\treturn_string = \"\"\n",
    "\tfor x in range(2, maximum+1 ,2):\n",
    "\t\treturn_string += str(x) + \" \"\n",
    "\treturn return_string.strip()\n",
    "\n",
    "print(even_numbers(6))  # Should be 2 4 6\n",
    "print(even_numbers(10)) # Should be 2 4 6 8 10\n",
    "print(even_numbers(1))  # No numbers displayed\n",
    "print(even_numbers(3))  # Should be 2\n",
    "print(even_numbers(0))  # No numbers displayed"
   ],
   "metadata": {
    "collapsed": false,
    "pycharm": {
     "name": "#%%\n"
    }
   }
  },
  {
   "cell_type": "code",
   "execution_count": null,
   "outputs": [],
   "source": [
    "def multiplication_table(start, stop):\n",
    "\tfor x in range(start,stop+1):\n",
    "\t\tfor y in range(start,stop+1):\n",
    "\t\t\tprint(str(x*y), end=\" \")\n",
    "\t\tprint()\n",
    "\n",
    "multiplication_table(1, 3)\n",
    "# Should print the multiplication table shown above"
   ],
   "metadata": {
    "collapsed": false,
    "pycharm": {
     "name": "#%%\n"
    }
   }
  },
  {
   "cell_type": "code",
   "execution_count": 11,
   "outputs": [
    {
     "name": "stdout",
     "text": [
      "Counting up: 1,2,3,4,5,6,7,8,9,10\n",
      "Counting down: 2,1\n",
      "Counting up: 5\n"
     ],
     "output_type": "stream"
    }
   ],
   "source": [
    "def counter(start, stop):\n",
    "\tx = start\n",
    "\tif start>stop:\n",
    "\t\treturn_string = \"Counting down: \"\n",
    "\t\twhile x >= stop:\n",
    "\t\t\treturn_string += str(x)\n",
    "\t\t\tif x>stop:\n",
    "\t\t\t\treturn_string += \",\"\n",
    "\t\t\tx = x-1\n",
    "\telse:\n",
    "\t\treturn_string = \"Counting up: \"\n",
    "\t\twhile x <= stop:\n",
    "\t\t\treturn_string += str(x)\n",
    "\t\t\tif x<stop:\n",
    "\t\t\t\treturn_string += \",\"\n",
    "\t\t\tx = x+1\n",
    "\treturn return_string\n",
    "\n",
    "print(counter(1, 10)) # Should be \"Counting up: 1,2,3,4,5,6,7,8,9,10\"\n",
    "print(counter(2, 1)) # Should be \"Counting down: 2,1\"\n",
    "print(counter(5, 5)) # Should be \"Counting up: 5\"\n",
    "\n"
   ],
   "metadata": {
    "collapsed": false,
    "pycharm": {
     "name": "#%%\n",
     "is_executing": false
    }
   }
  }
 ],
 "metadata": {
  "kernelspec": {
   "display_name": "Python 3",
   "language": "python",
   "name": "python3"
  },
  "language_info": {
   "codemirror_mode": {
    "name": "ipython",
    "version": 2
   },
   "file_extension": ".py",
   "mimetype": "text/x-python",
   "name": "python",
   "nbconvert_exporter": "python",
   "pygments_lexer": "ipython2",
   "version": "2.7.6"
  },
  "pycharm": {
   "stem_cell": {
    "cell_type": "raw",
    "source": [],
    "metadata": {
     "collapsed": false
    }
   }
  }
 },
 "nbformat": 4,
 "nbformat_minor": 0
}
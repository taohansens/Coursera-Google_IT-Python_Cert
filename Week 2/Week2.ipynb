{
 "cells": [
  {
   "cell_type": "code",
   "execution_count": 5,
   "metadata": {
    "collapsed": true,
    "pycharm": {
     "is_executing": false
    }
   },
   "outputs": [
    {
     "name": "stdout",
     "text": [
      "<class 'list'>\n<class 'tuple'>\n<class 'int'>\n<class 'float'>\n<class 'str'>\n"
     ],
     "output_type": "stream"
    }
   ],
   "source": [
    "print(type([3,4]))\n",
    "print(type((3,4)))\n",
    "print(type(3))\n",
    "print(type(3.5))\n",
    "print(type(\"Hello\"))"
   ]
  },
  {
   "cell_type": "code",
   "execution_count": 6,
   "outputs": [
    {
     "name": "stdout",
     "text": [
      "Welcome, Tao Hansen\n"
     ],
     "output_type": "stream"
    }
   ],
   "source": [
    "#Functions\n",
    "def greeting(name):\n",
    "    print(\"Welcome, \"+ name)\n",
    "greeting(\"Tao Hansen\")\n"
   ],
   "metadata": {
    "collapsed": false,
    "pycharm": {
     "name": "#%%\n",
     "is_executing": false
    }
   }
  },
  {
   "cell_type": "code",
   "execution_count": 7,
   "outputs": [
    {
     "name": "stdout",
     "text": [
      "Welcome, Tao Hansen\nYou are part of IT Support\n"
     ],
     "output_type": "stream"
    }
   ],
   "source": [
    "def greeting(name, department):\n",
    "    print(\"Welcome, \"+ name)\n",
    "    print(\"You are part of \" + department)\n",
    "greeting(\"Tao Hansen\", \"IT Support\")\n",
    "\n"
   ],
   "metadata": {
    "collapsed": false,
    "pycharm": {
     "name": "#%%\n",
     "is_executing": false
    }
   }
  }
 ],
 "metadata": {
  "kernelspec": {
   "display_name": "Python 3",
   "language": "python",
   "name": "python3"
  },
  "language_info": {
   "codemirror_mode": {
    "name": "ipython",
    "version": 2
   },
   "file_extension": ".py",
   "mimetype": "text/x-python",
   "name": "python",
   "nbconvert_exporter": "python",
   "pygments_lexer": "ipython2",
   "version": "2.7.6"
  },
  "pycharm": {
   "stem_cell": {
    "cell_type": "raw",
    "source": [],
    "metadata": {
     "collapsed": false
    }
   }
  }
 },
 "nbformat": 4,
 "nbformat_minor": 0
}